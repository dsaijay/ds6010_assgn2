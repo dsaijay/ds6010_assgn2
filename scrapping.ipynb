{
 "cells": [
  {
   "cell_type": "code",
   "execution_count": 1,
   "source": [
    "import pandas as pd\r\n",
    "from bs4 import BeautifulSoup\r\n",
    "from urllib.request import Request, urlopen"
   ],
   "outputs": [],
   "metadata": {}
  },
  {
   "cell_type": "markdown",
   "source": [
    "## Function to get soup of the page that we intend to scrap. "
   ],
   "metadata": {}
  },
  {
   "cell_type": "code",
   "execution_count": 2,
   "source": [
    "def getSoup(baseUrl):\r\n",
    "    req = Request(baseUrl, headers={'User-Agent': 'Mozilla/5.0'})\r\n",
    "    page = urlopen(req).read()\r\n",
    "    soup = BeautifulSoup(page)\r\n",
    "    return soup"
   ],
   "outputs": [],
   "metadata": {}
  },
  {
   "cell_type": "markdown",
   "source": [
    "* Get the soup and find the intended class from the page"
   ],
   "metadata": {}
  },
  {
   "cell_type": "code",
   "execution_count": 3,
   "source": [
    "soup = getSoup(\"https://epidemic-stats.com/\")\r\n",
    "countryTable = soup.find(id=\"all-country-table\")\r\n",
    "tRows = countryTable.findAll('tr')"
   ],
   "outputs": [],
   "metadata": {}
  },
  {
   "cell_type": "markdown",
   "source": [
    "* Get column names for the dataframe"
   ],
   "metadata": {}
  },
  {
   "cell_type": "code",
   "execution_count": 4,
   "source": [
    "columns = []\r\n",
    "for th in tRows[0].findAllNext(\"th\"):\r\n",
    "    columns.append(th.text)"
   ],
   "outputs": [],
   "metadata": {}
  },
  {
   "cell_type": "markdown",
   "source": [
    "* Get data from the table and append to a list"
   ],
   "metadata": {}
  },
  {
   "cell_type": "code",
   "execution_count": 6,
   "source": [
    "data = []\r\n",
    "for td in tRows[1:]:\r\n",
    "    row = []\r\n",
    "    for rowData in td.findAll(\"td\"):\r\n",
    "        row.append(rowData.text.strip())\r\n",
    "    data.append(row)"
   ],
   "outputs": [],
   "metadata": {}
  },
  {
   "cell_type": "markdown",
   "source": [
    "* Create a dataframe with the data from table and the coulmn names"
   ],
   "metadata": {}
  },
  {
   "cell_type": "code",
   "execution_count": 7,
   "source": [
    "countryDataFrame = pd.DataFrame(data,columns=columns)\r\n",
    "countryDataFrame.head()"
   ],
   "outputs": [
    {
     "output_type": "execute_result",
     "data": {
      "text/html": [
       "<div>\n",
       "<style scoped>\n",
       "    .dataframe tbody tr th:only-of-type {\n",
       "        vertical-align: middle;\n",
       "    }\n",
       "\n",
       "    .dataframe tbody tr th {\n",
       "        vertical-align: top;\n",
       "    }\n",
       "\n",
       "    .dataframe thead th {\n",
       "        text-align: right;\n",
       "    }\n",
       "</style>\n",
       "<table border=\"1\" class=\"dataframe\">\n",
       "  <thead>\n",
       "    <tr style=\"text-align: right;\">\n",
       "      <th></th>\n",
       "      <th>Country</th>\n",
       "      <th>Infected</th>\n",
       "      <th>Deaths</th>\n",
       "      <th>Recovered</th>\n",
       "      <th>Deaths Percent</th>\n",
       "      <th>Recovered Percent</th>\n",
       "      <th>Infected per million</th>\n",
       "      <th>Deaths per million</th>\n",
       "    </tr>\n",
       "  </thead>\n",
       "  <tbody>\n",
       "    <tr>\n",
       "      <th>0</th>\n",
       "      <td>USA</td>\n",
       "      <td>43942335</td>\n",
       "      <td>709119</td>\n",
       "      <td>33394833</td>\n",
       "      <td>1.6%</td>\n",
       "      <td>76.0%</td>\n",
       "      <td>131798</td>\n",
       "      <td>2127</td>\n",
       "    </tr>\n",
       "    <tr>\n",
       "      <th>1</th>\n",
       "      <td>India</td>\n",
       "      <td>33694940</td>\n",
       "      <td>447406</td>\n",
       "      <td>32948657</td>\n",
       "      <td>1.3%</td>\n",
       "      <td>97.8%</td>\n",
       "      <td>24122</td>\n",
       "      <td>320</td>\n",
       "    </tr>\n",
       "    <tr>\n",
       "      <th>2</th>\n",
       "      <td>Brazil</td>\n",
       "      <td>21366395</td>\n",
       "      <td>594702</td>\n",
       "      <td>20361191</td>\n",
       "      <td>2.8%</td>\n",
       "      <td>95.3%</td>\n",
       "      <td>99645</td>\n",
       "      <td>2773</td>\n",
       "    </tr>\n",
       "    <tr>\n",
       "      <th>3</th>\n",
       "      <td>UK</td>\n",
       "      <td>7701715</td>\n",
       "      <td>136208</td>\n",
       "      <td>6219111</td>\n",
       "      <td>1.8%</td>\n",
       "      <td>80.7%</td>\n",
       "      <td>112719</td>\n",
       "      <td>1993</td>\n",
       "    </tr>\n",
       "    <tr>\n",
       "      <th>4</th>\n",
       "      <td>Russia</td>\n",
       "      <td>7443149</td>\n",
       "      <td>204679</td>\n",
       "      <td>6618117</td>\n",
       "      <td>2.7%</td>\n",
       "      <td>88.9%</td>\n",
       "      <td>50976</td>\n",
       "      <td>1402</td>\n",
       "    </tr>\n",
       "  </tbody>\n",
       "</table>\n",
       "</div>"
      ],
      "text/plain": [
       "  Country  Infected  Deaths Recovered Deaths Percent Recovered Percent  \\\n",
       "0     USA  43942335  709119  33394833           1.6%             76.0%   \n",
       "1   India  33694940  447406  32948657           1.3%             97.8%   \n",
       "2  Brazil  21366395  594702  20361191           2.8%             95.3%   \n",
       "3      UK   7701715  136208   6219111           1.8%             80.7%   \n",
       "4  Russia   7443149  204679   6618117           2.7%             88.9%   \n",
       "\n",
       "  Infected per million Deaths per million  \n",
       "0               131798               2127  \n",
       "1                24122                320  \n",
       "2                99645               2773  \n",
       "3               112719               1993  \n",
       "4                50976               1402  "
      ]
     },
     "metadata": {},
     "execution_count": 7
    }
   ],
   "metadata": {}
  },
  {
   "cell_type": "markdown",
   "source": [
    "# Daily Weather Report Scrapping "
   ],
   "metadata": {}
  },
  {
   "cell_type": "code",
   "execution_count": 8,
   "source": [
    "weatherSoup = getSoup(\"https://forecast.weather.gov/MapClick.php?lat=41.37012500000003&lon=-83.64671499999997\")"
   ],
   "outputs": [],
   "metadata": {}
  },
  {
   "cell_type": "markdown",
   "source": [
    "* Getting weather condition and temperature"
   ],
   "metadata": {}
  },
  {
   "cell_type": "code",
   "execution_count": 9,
   "source": [
    "weatherCondition = weatherSoup.find(class_=\"myforecast-current\").text\r\n",
    "farinheit = weatherSoup.find(class_=\"myforecast-current-lrg\").text\r\n",
    "centigrade = weatherSoup.find(class_=\"myforecast-current-sm\").text"
   ],
   "outputs": [],
   "metadata": {}
  },
  {
   "cell_type": "markdown",
   "source": [
    "* Getting wind speed, humidity and other categories"
   ],
   "metadata": {}
  },
  {
   "cell_type": "code",
   "execution_count": 10,
   "source": [
    "print(weatherCondition,\"  \",farinheit,\"  \",centigrade)\r\n",
    "currConditionTable = weatherSoup.find(id=\"current_conditions_detail\").find_all(\"tr\")\r\n",
    "for rowData in currConditionTable:\r\n",
    "    row = rowData.findAll(\"td\")\r\n",
    "    print(row[0].text,\"  \",row[1].text.strip())\r\n",
    "        "
   ],
   "outputs": [
    {
     "output_type": "stream",
     "name": "stdout",
     "text": [
      "Overcast    70°F    21°C\n",
      "Humidity    68%\n",
      "Wind Speed    Calm\n",
      "Barometer    29.84 in (1009.9 mb)\n",
      "Dewpoint    59°F (15°C)\n",
      "Visibility    10.00 mi\n",
      "Last update    27 Sep 10:53 pm EDT\n"
     ]
    }
   ],
   "metadata": {}
  }
 ],
 "metadata": {
  "kernelspec": {
   "name": "python3",
   "display_name": "Python 3.9.2 64-bit"
  },
  "language_info": {
   "codemirror_mode": {
    "name": "ipython",
    "version": 3
   },
   "file_extension": ".py",
   "mimetype": "text/x-python",
   "name": "python",
   "nbconvert_exporter": "python",
   "pygments_lexer": "ipython3",
   "version": "3.9.2"
  },
  "interpreter": {
   "hash": "e0aa7e62beb6b9a7f3e4a6ee7abf0b974054579f01ede7cd74c616627832d5fa"
  }
 },
 "nbformat": 4,
 "nbformat_minor": 4
}